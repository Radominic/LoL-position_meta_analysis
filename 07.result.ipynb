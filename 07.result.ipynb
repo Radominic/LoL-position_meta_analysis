{
 "cells": [
  {
   "cell_type": "markdown",
   "metadata": {},
   "source": [
    "# 결과"
   ]
  },
  {
   "cell_type": "markdown",
   "metadata": {},
   "source": [
    "목표 : 초반 20분까지 라인별 gold, xp 데이터를 로지스틱 회귀분석을 통해 경기 승/패 예측, 회귀 모델의 계수를 통해 각 라인별 경기 영향력 비교\n",
    "\n",
    "gold 데이터를 사용 : R-squared 0.287  , 정확도 : 0.748\n",
    "\n",
    "xp 데이터를 사용 : R-squared 0.303  , 정확도 : 0.481\n",
    "\n",
    "#### 결론 : 예측 실패 "
   ]
  },
  {
   "cell_type": "markdown",
   "metadata": {},
   "source": [
    "## 원인분석\n",
    "\n",
    "1. 데이터의 부정확성 : 플레이어의 lane 정보가 정확히 측정된 것을 최대한 골라내었으나 여전히 부정확(loldeveloper api analysis). Riot API libraries에서는 캐릭터별 플레이 비율, 시간별 포지션 데이터, 아이템 데이터 등을 사용해서 분석할 것을 권함. \n",
    "2. 초반 20분 이후 승패의 역전 요소 배제(게임에 대한 이해도 부족) : baron nashor, dragon, 한타 등...\n",
    "3. 데이터 수의 부족"
   ]
  },
  {
   "cell_type": "code",
   "execution_count": null,
   "metadata": {},
   "outputs": [],
   "source": []
  }
 ],
 "metadata": {
  "kernelspec": {
   "display_name": "Python 3",
   "language": "python",
   "name": "python3"
  },
  "language_info": {
   "codemirror_mode": {
    "name": "ipython",
    "version": 3
   },
   "file_extension": ".py",
   "mimetype": "text/x-python",
   "name": "python",
   "nbconvert_exporter": "python",
   "pygments_lexer": "ipython3",
   "version": "3.6.6"
  }
 },
 "nbformat": 4,
 "nbformat_minor": 4
}
