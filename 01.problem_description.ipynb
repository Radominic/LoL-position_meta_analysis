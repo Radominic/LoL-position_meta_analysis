{
 "cells": [
  {
   "cell_type": "markdown",
   "metadata": {},
   "source": [
   ]
  },
  {
   "cell_type": "markdown",
   "metadata": {},
   "source": [
    "# 주제\n",
    "\n",
    "### E-sports lol 게임의 각 라인(position) 성장 격차와 승패의 상관 관계 \n"
   ]
  },
  {
   "cell_type": "markdown",
   "metadata": {},
   "source": [
    "## 목표\n",
    "\n",
    "### 어느 라인의 성장 격차가 경기를 승 또는 패로 이끄는데 유력한지 추정\n",
    "\n",
    "ex) TOP, MIDDLE, BOTTOM, JUNGLE 4가지 라인중 어느 라인이 가장 승리에 기여할까?"
   ]
  },
  {
   "cell_type": "markdown",
   "metadata": {},
   "source": [
    "### 데이터\n",
    "\n",
    "loldeveloper API에서 제공하는 경기 데이터를 사용. 경기 내용의 신뢰도를 위해 'grandmaster'의 경기를 사용, challenger가 가장 높은 등급이지만 인원제한으로 유저가 약 300명정도밖에 되지 않기 때문에 유저비율 0.04% 약 1400명의 'grandmaster'선택\n",
    "\n",
    "게임 중반 이후에는 라인의 경계없이 전투를 하기때문에 게임중 주요 이벤트 중 하나인 'Baron Nashor'가 등장하기 이전인 초반 20분까지의 데이터를 사용"
   ]
  },
  {
   "cell_type": "markdown",
   "metadata": {},
   "source": [
    "### 실험방법\n",
    "\n",
    "1. loldeveloper api를 통해 경기 데이터를 초반 20분까지 수집\n",
    "2. 데이터 정제 후 EDA를 통해 사용 가능한 데이터 선택\n",
    "3. blue 팀과 red 팀의 라인별 격차를 구해 독립변수로 사용\n",
    "4. 경기의 승패를 종속변수로 사용하여 로지스틱 회귀 모델 학습\n",
    "5. 회귀계수를 비교하여 어느 라인의 영향이 가장 큰지 비교"
   ]
  },
  {
   "cell_type": "code",
   "execution_count": null,
   "metadata": {},
   "outputs": [],
   "source": []
  }
 ],
 "metadata": {
  "kernelspec": {
   "display_name": "Python 3",
   "language": "python",
   "name": "python3"
  },
  "language_info": {
   "codemirror_mode": {
    "name": "ipython",
    "version": 3
   },
   "file_extension": ".py",
   "mimetype": "text/x-python",
   "name": "python",
   "nbconvert_exporter": "python",
   "pygments_lexer": "ipython3",
   "version": "3.6.6"
  }
 },
 "nbformat": 4,
 "nbformat_minor": 4
}
